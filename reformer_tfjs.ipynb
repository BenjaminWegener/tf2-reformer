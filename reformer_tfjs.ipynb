{
  "nbformat": 4,
  "nbformat_minor": 0,
  "metadata": {
    "colab": {
      "name": "reformer tfjs.ipynb",
      "provenance": [],
      "private_outputs": true
    },
    "kernelspec": {
      "name": "python3",
      "display_name": "Python 3"
    },
    "accelerator": "GPU"
  },
  "cells": [
    {
      "cell_type": "code",
      "metadata": {
        "id": "Z2ZYYIKOR4AQ",
        "colab_type": "code",
        "colab": {}
      },
      "source": [
        "%cd ..\n",
        "!git clone https://github.com/BenjaminWegener/tf2-reformer\n",
        "%cd tf2-reformer"
      ],
      "execution_count": null,
      "outputs": []
    },
    {
      "cell_type": "code",
      "metadata": {
        "id": "q_eRLPuVSbHu",
        "colab_type": "code",
        "colab": {}
      },
      "source": [
        "!pip install sentencepiece\n",
        "!python main.py"
      ],
      "execution_count": null,
      "outputs": []
    },
    {
      "cell_type": "code",
      "metadata": {
        "id": "kc4RhcNwUWOZ",
        "colab_type": "code",
        "colab": {}
      },
      "source": [
        "import tensorflow as tf\n",
        "!python3 -m pip install tensorflowjs\n",
        "\n",
        "\n",
        "model_tf.save(\"./test_reformer\")\n",
        "!tensorflowjs_converter \\\n",
        "    --input_format=tf_saved_model \\\n",
        "    --output_node_names='reformer' \\\n",
        "    --saved_model_tags=serve \\\n",
        "    --control_flow_v2=true \\\n",
        "    /content/test_reformer \\\n",
        "    /content/test_reformer_tfjs"
      ],
      "execution_count": null,
      "outputs": []
    }
  ]
}